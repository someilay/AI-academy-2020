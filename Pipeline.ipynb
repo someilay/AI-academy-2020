{
  "nbformat": 4,
  "nbformat_minor": 0,
  "metadata": {
    "kernelspec": {
      "display_name": "Python 3",
      "language": "python",
      "name": "python3"
    },
    "language_info": {
      "codemirror_mode": {
        "name": "ipython",
        "version": 3
      },
      "file_extension": ".py",
      "mimetype": "text/x-python",
      "name": "python",
      "nbconvert_exporter": "python",
      "pygments_lexer": "ipython3",
      "version": "3.7.4"
    },
    "colab": {
      "name": "Unres.ipynb",
      "provenance": []
    }
  },
  "cells": [
    {
      "cell_type": "code",
      "metadata": {
        "scrolled": true,
        "id": "F43RFxVGziKk"
      },
      "source": [
        "import pandas as pd\n",
        "import xgboost as xgb"
      ],
      "execution_count": null,
      "outputs": []
    },
    {
      "cell_type": "code",
      "metadata": {
        "id": "eDTgpbZoziKq"
      },
      "source": [
        "TrTa=pd.read_csv('train_target.csv')"
      ],
      "execution_count": null,
      "outputs": []
    },
    {
      "cell_type": "code",
      "metadata": {
        "id": "pctdwi0MziKt"
      },
      "source": [
        "TrTr=pd.read_csv('transactions_train.csv')"
      ],
      "execution_count": null,
      "outputs": []
    },
    {
      "cell_type": "code",
      "metadata": {
        "scrolled": false,
        "id": "HZO9cOH5ziKv"
      },
      "source": [
        "qw=TrTr.drop('trans_date',axis=1).fillna(0).groupby(['client_id','small_group']).sum(level='amount_rur')"
      ],
      "execution_count": null,
      "outputs": []
    },
    {
      "cell_type": "code",
      "metadata": {
        "id": "j7SPI3m8ziKw"
      },
      "source": [
        "am_sum=qw.reset_index().pivot(index='client_id',columns='small_group', values='amount_rur')\n",
        "am_sum=am_sum.fillna(0)\n",
        "am_sum.columns=['gr_sum'+str(i) for i in am_sum.columns]"
      ],
      "execution_count": null,
      "outputs": []
    },
    {
      "cell_type": "code",
      "metadata": {
        "id": "XMud2lxnziKy"
      },
      "source": [
        "am_count=TrTr.groupby(['client_id','small_group'])['amount_rur'].count()\n",
        "am_count=am_count.reset_index().pivot(index='client_id',columns='small_group', values='amount_rur')\n",
        "am_count=am_count.fillna(0)\n",
        "am_count.columns=['gr_count'+str(i) for i in am_count.columns]"
      ],
      "execution_count": null,
      "outputs": []
    },
    {
      "cell_type": "code",
      "metadata": {
        "id": "QtMmtqtLziKz"
      },
      "source": [
        "agg_features=TrTr.groupby('client_id')['amount_rur'].agg(['sum','mean','std','min','max']).reset_index()"
      ],
      "execution_count": null,
      "outputs": []
    },
    {
      "cell_type": "code",
      "metadata": {
        "id": "Jj3SBcT2ziK0"
      },
      "source": [
        "train=pd.merge(TrTa,agg_features, on='client_id')\n",
        "train=pd.merge(train,am_sum.reset_index(), on ='client_id')"
      ],
      "execution_count": null,
      "outputs": []
    },
    {
      "cell_type": "code",
      "metadata": {
        "id": "AgtHD0i8ziK2"
      },
      "source": [
        "test_id=pd.read_csv('test.csv')\n",
        "TrTe=pd.read_csv('transactions_test.csv')"
      ],
      "execution_count": null,
      "outputs": []
    },
    {
      "cell_type": "code",
      "metadata": {
        "id": "IM57RsihziK3"
      },
      "source": [
        "test_features=TrTe.groupby('client_id')['amount_rur'].agg(['sum','mean','std','min','max']).reset_index()"
      ],
      "execution_count": null,
      "outputs": []
    },
    {
      "cell_type": "code",
      "metadata": {
        "id": "NH_x4Ir5ziK4"
      },
      "source": [
        "test_sum=TrTe.drop('trans_date',axis=1)\n",
        "test_sum=test_sum.groupby(['client_id','small_group']).sum(level='amount_rur')\n",
        "test_sum=test_sum.reset_index().pivot(index='client_id',columns='small_group', values='amount_rur')\n",
        "test_sum=test_sum.fillna(0)\n",
        "test_sum.columns=['gr_sum'+str(i) for i in test_sum.columns]"
      ],
      "execution_count": null,
      "outputs": []
    },
    {
      "cell_type": "code",
      "metadata": {
        "id": "i7fcFDciziK5"
      },
      "source": [
        "test_count=TrTe.groupby(['client_id','small_group'])['amount_rur'].count()\n",
        "test_count=test_count.reset_index().pivot(index='client_id',columns='small_group', values='amount_rur')\n",
        "test_count=test_count.fillna(0)\n",
        "test_count.columns=['gr_count'+str(i) for i in test_count.columns]"
      ],
      "execution_count": null,
      "outputs": []
    },
    {
      "cell_type": "code",
      "metadata": {
        "id": "vK51b8lkziK6"
      },
      "source": [
        "test=pd.merge(test_id,test_features, on='client_id')\n",
        "test=pd.merge(test,test_sum.reset_index(), on ='client_id')"
      ],
      "execution_count": null,
      "outputs": []
    },
    {
      "cell_type": "code",
      "metadata": {
        "id": "ln1wcM9rziK7"
      },
      "source": [
        "common_features=list(set(train.columns).intersection(set(test.columns)))"
      ],
      "execution_count": null,
      "outputs": []
    },
    {
      "cell_type": "code",
      "metadata": {
        "id": "rtdIqLA4ziK8"
      },
      "source": [
        "y_train=train['bins']\n",
        "X_train=train[common_features]\n",
        "X_test=test[common_features]"
      ],
      "execution_count": null,
      "outputs": []
    },
    {
      "cell_type": "code",
      "metadata": {
        "id": "Gh4-gWp-ziK9",
        "outputId": "4e0bcedd-0fc8-4a6d-ebc1-490840bd37d5"
      },
      "source": [
        "model=xgb.XGBClassifier(silent=False, nthread=10, max_depth=8, n_estimators=3400, learning_rate=0.006, seed=425)\n",
        "model.fit(X_train,y_train)"
      ],
      "execution_count": null,
      "outputs": [
        {
          "output_type": "execute_result",
          "data": {
            "text/plain": [
              "XGBClassifier(base_score=0.5, booster='gbtree', colsample_bylevel=1,\n",
              "              colsample_bynode=1, colsample_bytree=1, gamma=0,\n",
              "              learning_rate=0.006, max_delta_step=0, max_depth=8,\n",
              "              min_child_weight=1, missing=None, n_estimators=3400, n_jobs=1,\n",
              "              nthread=10, objective='multi:softprob', random_state=0,\n",
              "              reg_alpha=0, reg_lambda=1, scale_pos_weight=1, seed=425,\n",
              "              silent=False, subsample=1, verbosity=1)"
            ]
          },
          "metadata": {
            "tags": []
          },
          "execution_count": 14
        }
      ]
    },
    {
      "cell_type": "code",
      "metadata": {
        "id": "-qClewKSziK_"
      },
      "source": [
        "pred=model.predict(X_test)"
      ],
      "execution_count": null,
      "outputs": []
    },
    {
      "cell_type": "code",
      "metadata": {
        "id": "j7UkblnrziLA",
        "outputId": "93b7308b-e819-4dbb-ae00-a28d419f4fed"
      },
      "source": [
        "submission = pd.DataFrame({'bins': pred}, index=test.client_id)\n",
        "submission.head()"
      ],
      "execution_count": null,
      "outputs": [
        {
          "output_type": "execute_result",
          "data": {
            "text/html": [
              "<div>\n",
              "<style scoped>\n",
              "    .dataframe tbody tr th:only-of-type {\n",
              "        vertical-align: middle;\n",
              "    }\n",
              "\n",
              "    .dataframe tbody tr th {\n",
              "        vertical-align: top;\n",
              "    }\n",
              "\n",
              "    .dataframe thead th {\n",
              "        text-align: right;\n",
              "    }\n",
              "</style>\n",
              "<table border=\"1\" class=\"dataframe\">\n",
              "  <thead>\n",
              "    <tr style=\"text-align: right;\">\n",
              "      <th></th>\n",
              "      <th>bins</th>\n",
              "    </tr>\n",
              "    <tr>\n",
              "      <th>client_id</th>\n",
              "      <th></th>\n",
              "    </tr>\n",
              "  </thead>\n",
              "  <tbody>\n",
              "    <tr>\n",
              "      <td>28571</td>\n",
              "      <td>0</td>\n",
              "    </tr>\n",
              "    <tr>\n",
              "      <td>27046</td>\n",
              "      <td>2</td>\n",
              "    </tr>\n",
              "    <tr>\n",
              "      <td>13240</td>\n",
              "      <td>0</td>\n",
              "    </tr>\n",
              "    <tr>\n",
              "      <td>19974</td>\n",
              "      <td>2</td>\n",
              "    </tr>\n",
              "    <tr>\n",
              "      <td>10505</td>\n",
              "      <td>1</td>\n",
              "    </tr>\n",
              "  </tbody>\n",
              "</table>\n",
              "</div>"
            ],
            "text/plain": [
              "           bins\n",
              "client_id      \n",
              "28571         0\n",
              "27046         2\n",
              "13240         0\n",
              "19974         2\n",
              "10505         1"
            ]
          },
          "metadata": {
            "tags": []
          },
          "execution_count": 16
        }
      ]
    },
    {
      "cell_type": "code",
      "metadata": {
        "id": "wMglMYkTziLB",
        "outputId": "4f4432f1-6901-4c3f-ba75-f3895e3e25e8"
      },
      "source": [
        "import time\n",
        "import os\n",
        "\n",
        "current_timestamp = int(time.time())\n",
        "submission_path = 'submissions/{}.csv'.format(current_timestamp)\n",
        "\n",
        "if not os.path.exists('submissions'):\n",
        "    os.makedirs('submissions')\n",
        "\n",
        "print(submission_path)\n",
        "submission.to_csv(submission_path, index=True)"
      ],
      "execution_count": null,
      "outputs": [
        {
          "output_type": "stream",
          "text": [
            "submissions/1578402816.csv\n"
          ],
          "name": "stdout"
        }
      ]
    },
    {
      "cell_type": "code",
      "metadata": {
        "id": "Be4j1P0cziLD"
      },
      "source": [
        ""
      ],
      "execution_count": null,
      "outputs": []
    }
  ]
}