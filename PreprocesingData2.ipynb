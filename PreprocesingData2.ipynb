{
  "nbformat": 4,
  "nbformat_minor": 0,
  "metadata": {
    "colab": {
      "name": "PreprocesingData2.ipynb",
      "provenance": [],
      "machine_shape": "hm"
    },
    "kernelspec": {
      "name": "python3",
      "display_name": "Python 3"
    },
    "accelerator": "GPU"
  },
  "cells": [
    {
      "cell_type": "code",
      "metadata": {
        "id": "um4fL3BVTjWV",
        "colab": {
          "base_uri": "https://localhost:8080/",
          "height": 124
        },
        "outputId": "0edd8688-2b69-4871-88d0-342054a3a966"
      },
      "source": [
        "from google.colab import drive\n",
        "drive.mount('/content/drive')\n",
        "\n",
        "import pandas as pd\n",
        "dis = 'drive/My Drive/data/'"
      ],
      "execution_count": null,
      "outputs": [
        {
          "output_type": "stream",
          "text": [
            "Go to this URL in a browser: https://accounts.google.com/o/oauth2/auth?client_id=947318989803-6bn6qk8qdgf4n4g3pfee6491hc0brc4i.apps.googleusercontent.com&redirect_uri=urn%3aietf%3awg%3aoauth%3a2.0%3aoob&response_type=code&scope=email%20https%3a%2f%2fwww.googleapis.com%2fauth%2fdocs.test%20https%3a%2f%2fwww.googleapis.com%2fauth%2fdrive%20https%3a%2f%2fwww.googleapis.com%2fauth%2fdrive.photos.readonly%20https%3a%2f%2fwww.googleapis.com%2fauth%2fpeopleapi.readonly\n",
            "\n",
            "Enter your authorization code:\n",
            "··········\n",
            "Mounted at /content/drive\n"
          ],
          "name": "stdout"
        }
      ]
    },
    {
      "cell_type": "markdown",
      "metadata": {
        "id": "rltCR3ZdsC_j"
      },
      "source": [
        "## Мешаем всё!"
      ]
    },
    {
      "cell_type": "code",
      "metadata": {
        "id": "D9xSvMuXsFxa"
      },
      "source": [
        "dbase = pd.read_csv(dis + 'all_dataNeighbor2.csv', index_col = 'client_id')"
      ],
      "execution_count": null,
      "outputs": []
    },
    {
      "cell_type": "code",
      "metadata": {
        "id": "mic-4HdbsThq"
      },
      "source": [
        "d = pd.read_csv(dis + 'all_data8.csv', index_col = 'client_id')"
      ],
      "execution_count": null,
      "outputs": []
    },
    {
      "cell_type": "code",
      "metadata": {
        "id": "iNF-N-QmscK8"
      },
      "source": [
        "dbase = dbase.merge(d[['frequency_small_group_' + str(i) for i in range(204)]], how = 'outer', on = 'client_id')"
      ],
      "execution_count": null,
      "outputs": []
    },
    {
      "cell_type": "code",
      "metadata": {
        "id": "LjkkNaJvssy9"
      },
      "source": [
        "for i in range(204):\n",
        "  dbase['there_small_group_' + str(i)] = (dbase['small_group_' + str(i)] > 0).astype(int)"
      ],
      "execution_count": null,
      "outputs": []
    },
    {
      "cell_type": "code",
      "metadata": {
        "id": "OfR-N-cZtUPe"
      },
      "source": [
        "def Count(x):\n",
        "  return sum(list(x))\n",
        "\n",
        "a = dbase[['small_group_' + str(i) for i in range(204)]].apply(Count, axis = 1)\n",
        "for i in range(204):\n",
        "  dbase['small_group_rate_' + str(i)] = dbase['small_group_' + str(i)] / a"
      ],
      "execution_count": null,
      "outputs": []
    },
    {
      "cell_type": "code",
      "metadata": {
        "id": "2BSPOVTsun8d"
      },
      "source": [
        "dbase.to_csv(dis + 'all_data8.csv')"
      ],
      "execution_count": null,
      "outputs": []
    },
    {
      "cell_type": "code",
      "metadata": {
        "id": "0tWsRqmn9vQd"
      },
      "source": [
        "dbase = pd.read_csv(dis + 'all_data8.csv', index_col = 'client_id')"
      ],
      "execution_count": null,
      "outputs": []
    },
    {
      "cell_type": "code",
      "metadata": {
        "id": "cgQYAsjW94qm"
      },
      "source": [
        "def FindMax(x):\n",
        "  a = list(zip(list(x), [i for i in range(204)]))\n",
        "  a = sorted(a)[::-1]\n",
        "  return [a[i][1] for i in range(10)]\n",
        "\n",
        "c = dbase[['small_group_total_rur_' + str(i) for i in range(204)]].apply(FindMax, axis = 1)"
      ],
      "execution_count": null,
      "outputs": []
    },
    {
      "cell_type": "code",
      "metadata": {
        "id": "QBL-OXhU-vW7"
      },
      "source": [
        "dc = {}\n",
        "\n",
        "for i in range(10):\n",
        "  dc[i] = []\n",
        "  for j in c.index:\n",
        "    dc[i].append(c[j][i])"
      ],
      "execution_count": null,
      "outputs": []
    },
    {
      "cell_type": "code",
      "metadata": {
        "id": "jzEjspxT_JNG"
      },
      "source": [
        "from keras.utils import to_categorical"
      ],
      "execution_count": null,
      "outputs": []
    },
    {
      "cell_type": "code",
      "metadata": {
        "id": "LpGrmurOAsl0"
      },
      "source": [
        "for i in range(10):\n",
        "  dc[i] = to_categorical(dc[i], 204)"
      ],
      "execution_count": null,
      "outputs": []
    },
    {
      "cell_type": "code",
      "metadata": {
        "id": "N5oj-f8rk9EW"
      },
      "source": [
        "for i in range(10):\n",
        "  c = {}\n",
        "  for j in range(204):\n",
        "    c[j] = dc[i][:,j]\n",
        "  dc[i] = c"
      ],
      "execution_count": null,
      "outputs": []
    },
    {
      "cell_type": "code",
      "metadata": {
        "id": "Qw_O3W3ImlQP"
      },
      "source": [
        "for i in range(10):\n",
        "  for j in range(204):\n",
        "    dbase['favor_small_gorup_' + str(i) + '_' + str(j)] = dc[i][j]"
      ],
      "execution_count": null,
      "outputs": []
    },
    {
      "cell_type": "code",
      "metadata": {
        "id": "8lqHICcxm_zM"
      },
      "source": [
        "for i in range(10):\n",
        "  for j in range(204):\n",
        "    dbase['favor_small_gorup_' + str(i) + '_' + str(j)] = dbase['favor_small_gorup_' + str(i) + '_' + str(j)].astype(int)"
      ],
      "execution_count": null,
      "outputs": []
    },
    {
      "cell_type": "code",
      "metadata": {
        "id": "dGq2JUt6nmma"
      },
      "source": [
        "dbase.to_csv(dis + 'all_data8.csv')"
      ],
      "execution_count": null,
      "outputs": []
    },
    {
      "cell_type": "code",
      "metadata": {
        "id": "XskPs6ILwaM8"
      },
      "source": [
        "d = pd.read_csv(dis + 'all_dataNeighbor3.csv', index_col = 'client_id')"
      ],
      "execution_count": null,
      "outputs": []
    },
    {
      "cell_type": "code",
      "metadata": {
        "id": "mCmKSQ8lwwSt"
      },
      "source": [
        "dbase = dbase.merge(d[['target_rate_m_' + str(i) for i in range(4)]], how = 'outer', on = 'client_id')"
      ],
      "execution_count": null,
      "outputs": []
    },
    {
      "cell_type": "code",
      "metadata": {
        "id": "NZ-SReThxBCA"
      },
      "source": [
        "dbase.to_csv(dis + 'all_data8.csv')"
      ],
      "execution_count": null,
      "outputs": []
    },
    {
      "cell_type": "code",
      "metadata": {
        "id": "Y8SaQ88VyYiZ"
      },
      "source": [
        "data = pd.read_csv(dis + 'AllDats.csv')"
      ],
      "execution_count": null,
      "outputs": []
    },
    {
      "cell_type": "code",
      "metadata": {
        "id": "xI2neRGo0DDh"
      },
      "source": [
        "dbase = pd.read_csv(dis + 'all_data8.csv', index_col = 'client_id')"
      ],
      "execution_count": null,
      "outputs": []
    },
    {
      "cell_type": "code",
      "metadata": {
        "id": "iODVhmAsyqPm"
      },
      "source": [
        "data = data.drop(['Unnamed: 0'], axis = 1)"
      ],
      "execution_count": null,
      "outputs": []
    },
    {
      "cell_type": "code",
      "metadata": {
        "id": "u1erf05UyzuC"
      },
      "source": [
        "c = data.groupby(['client_id','trans_date'])['amount_rur'].count()"
      ],
      "execution_count": null,
      "outputs": []
    },
    {
      "cell_type": "code",
      "metadata": {
        "id": "RfkE_ZyA03rn"
      },
      "source": [
        "dc = []\n",
        "for i in range(50000):\n",
        "  b = list(c[i].index)\n",
        "  a = b[0]\n",
        "  for i in range(1, len(b)):\n",
        "    a += b[i] - b[i-1]\n",
        "  dc.append(a/len(b))"
      ],
      "execution_count": null,
      "outputs": []
    },
    {
      "cell_type": "code",
      "metadata": {
        "id": "CS0g4aDb1SvP"
      },
      "source": [
        "dbase['delta_days'] = dc"
      ],
      "execution_count": null,
      "outputs": []
    },
    {
      "cell_type": "code",
      "metadata": {
        "id": "D3MQg3cl3Q2u"
      },
      "source": [
        "dbase.to_csv(dis + 'all_data8.csv')"
      ],
      "execution_count": null,
      "outputs": []
    },
    {
      "cell_type": "code",
      "metadata": {
        "id": "A_KrJfP8w94C"
      },
      "source": [
        "dbase = pd.read_csv(dis + 'all_data8.csv', index_col = 'client_id')"
      ],
      "execution_count": null,
      "outputs": []
    },
    {
      "cell_type": "code",
      "metadata": {
        "id": "zXw7hWBSxE6O"
      },
      "source": [
        "dbase = dbase.drop(['target_rate_m_' + str(i) for i in range(4)], axis = 1)"
      ],
      "execution_count": null,
      "outputs": []
    },
    {
      "cell_type": "code",
      "metadata": {
        "id": "hv2W-0mBxSk4"
      },
      "source": [
        "dbase.to_csv(dis + 'all_data8.csv')"
      ],
      "execution_count": null,
      "outputs": []
    },
    {
      "cell_type": "code",
      "metadata": {
        "id": "VpCoEHUKyTlK"
      },
      "source": [
        "dbase = pd.read_csv(dis + 'all_data8.csv', index_col = 'client_id')"
      ],
      "execution_count": null,
      "outputs": []
    },
    {
      "cell_type": "code",
      "metadata": {
        "id": "iD-hJVLSR1i4"
      },
      "source": [
        "dbase = dbase.drop(['delta_days'], axis = 1)"
      ],
      "execution_count": null,
      "outputs": []
    },
    {
      "cell_type": "code",
      "metadata": {
        "id": "VIGN5lg9R8Tt"
      },
      "source": [
        "data = data.drop(['Unnamed: 0'], axis = 1)"
      ],
      "execution_count": null,
      "outputs": []
    },
    {
      "cell_type": "code",
      "metadata": {
        "id": "Wp8fn-BzTMpz"
      },
      "source": [
        "c = data.groupby(['client_id', 'trans_date'])['amount_rur'].sum()"
      ],
      "execution_count": null,
      "outputs": []
    },
    {
      "cell_type": "code",
      "metadata": {
        "id": "pXr4VzWRTkP3"
      },
      "source": [
        "c = c.reset_index().pivot(index = 'client_id', columns = 'trans_date', values = 'amount_rur')"
      ],
      "execution_count": null,
      "outputs": []
    },
    {
      "cell_type": "code",
      "metadata": {
        "id": "RPZ8ZF0gURXl"
      },
      "source": [
        "c = c.fillna(0.0)"
      ],
      "execution_count": null,
      "outputs": []
    },
    {
      "cell_type": "code",
      "metadata": {
        "id": "uJJAaXlyUXID"
      },
      "source": [
        "for i in range(730):\n",
        "  c[i] = (c[i] >= dbase['mean']).astype(int)"
      ],
      "execution_count": null,
      "outputs": []
    },
    {
      "cell_type": "code",
      "metadata": {
        "id": "OSUJYyQlU0pu"
      },
      "source": [
        "c.columns = ['bigger_mean_' + str(i) for i in c.columns]"
      ],
      "execution_count": null,
      "outputs": []
    },
    {
      "cell_type": "code",
      "metadata": {
        "id": "Q7FSq58-XDsg"
      },
      "source": [
        "dbase = dbase.merge(c, how = 'outer', on = 'client_id')"
      ],
      "execution_count": null,
      "outputs": []
    },
    {
      "cell_type": "code",
      "metadata": {
        "id": "fOyRF517XOzY"
      },
      "source": [
        "dbase.to_csv(dis + 'all_data7.csv')"
      ],
      "execution_count": null,
      "outputs": []
    },
    {
      "cell_type": "code",
      "metadata": {
        "id": "Da15jfIgZ5jl"
      },
      "source": [
        "dbase =pd.read_csv(dis + 'all_data7.csv', index_col = 'client_id')"
      ],
      "execution_count": null,
      "outputs": []
    },
    {
      "cell_type": "code",
      "metadata": {
        "id": "3i61fKINaPsL"
      },
      "source": [
        "sbase = dbase.loc[dbase['is_train'] == 1].drop(['is_train'], axis = 1)"
      ],
      "execution_count": null,
      "outputs": []
    },
    {
      "cell_type": "code",
      "metadata": {
        "id": "t8mThZZAajZ5"
      },
      "source": [
        "sbase = sbase.merge(pd.read_csv(dis + 'train_target.csv', index_col = 'client_id'), how = 'outer', on = 'client_id')"
      ],
      "execution_count": null,
      "outputs": []
    },
    {
      "cell_type": "code",
      "metadata": {
        "id": "4-CDM9Fra7k_"
      },
      "source": [
        "d = []\n",
        "for i in range(4):\n",
        "  d.append(sbase.loc[sbase['bins'] == i][['small_group_' + str(i) for i in range(204)]].mean())"
      ],
      "execution_count": null,
      "outputs": []
    },
    {
      "cell_type": "code",
      "metadata": {
        "id": "wZrqYGadbcX-",
        "colab": {
          "base_uri": "https://localhost:8080/",
          "height": 141
        },
        "outputId": "ace34782-78a8-4453-fb96-3faed6043be5"
      },
      "source": [
        "for i in range(4):\n",
        "  a = dbase[['small_group_' + str(k) for k in range(204)]]\n",
        "  for j in range(204):\n",
        "    a['small_group_' + str(j)] = a['small_group_' + str(j)] > d[i]['small_group_' + str(j)]\n",
        "  d[i] = a"
      ],
      "execution_count": null,
      "outputs": [
        {
          "output_type": "stream",
          "text": [
            "/usr/local/lib/python3.6/dist-packages/ipykernel_launcher.py:4: SettingWithCopyWarning: \n",
            "A value is trying to be set on a copy of a slice from a DataFrame.\n",
            "Try using .loc[row_indexer,col_indexer] = value instead\n",
            "\n",
            "See the caveats in the documentation: http://pandas.pydata.org/pandas-docs/stable/user_guide/indexing.html#returning-a-view-versus-a-copy\n",
            "  after removing the cwd from sys.path.\n"
          ],
          "name": "stderr"
        }
      ]
    },
    {
      "cell_type": "code",
      "metadata": {
        "id": "iC4FQVPlcdC8",
        "colab": {
          "base_uri": "https://localhost:8080/",
          "height": 141
        },
        "outputId": "7d8f6d9d-3a9d-4cc1-8e98-79b6b5d34db3"
      },
      "source": [
        "for i in range(4):\n",
        "  for j in range(204):\n",
        "    d[i]['small_group_' + str(j)] = d[i]['small_group_' + str(j)].astype(int)"
      ],
      "execution_count": null,
      "outputs": [
        {
          "output_type": "stream",
          "text": [
            "/usr/local/lib/python3.6/dist-packages/ipykernel_launcher.py:3: SettingWithCopyWarning: \n",
            "A value is trying to be set on a copy of a slice from a DataFrame.\n",
            "Try using .loc[row_indexer,col_indexer] = value instead\n",
            "\n",
            "See the caveats in the documentation: http://pandas.pydata.org/pandas-docs/stable/user_guide/indexing.html#returning-a-view-versus-a-copy\n",
            "  This is separate from the ipykernel package so we can avoid doing imports until\n"
          ],
          "name": "stderr"
        }
      ]
    },
    {
      "cell_type": "code",
      "metadata": {
        "id": "hWVlGa1mc3ed"
      },
      "source": [
        "for i in range(4):\n",
        "  for j in range(204):\n",
        "    dbase['bigger_small_group_' + str(i) + '_' + str(j)] = d[i]['small_group_' + str(j)]"
      ],
      "execution_count": null,
      "outputs": []
    },
    {
      "cell_type": "code",
      "metadata": {
        "id": "b7hh9isPdSMz"
      },
      "source": [
        "dbase.to_csv(dis + 'all_data9.csv')"
      ],
      "execution_count": null,
      "outputs": []
    },
    {
      "cell_type": "code",
      "metadata": {
        "id": "4b5IdiOheoJw"
      },
      "source": [
        "dbase = pd.read_csv(dis + 'all_data7.csv', index_col = 'client_id')"
      ],
      "execution_count": null,
      "outputs": []
    },
    {
      "cell_type": "code",
      "metadata": {
        "id": "eswIfta0rQYq"
      },
      "source": [
        "sbase = dbase.loc[dbase['is_train'] == 1].drop(['is_train'], axis = 1)"
      ],
      "execution_count": null,
      "outputs": []
    },
    {
      "cell_type": "code",
      "metadata": {
        "id": "9CSXj_v4sFtA"
      },
      "source": [
        "sbase = sbase.merge(pd.read_csv(dis + 'train_target.csv', index_col = 'client_id'), how = 'outer', on = 'client_id')"
      ],
      "execution_count": null,
      "outputs": []
    },
    {
      "cell_type": "code",
      "metadata": {
        "id": "Fin9jwjesNvE"
      },
      "source": [
        "d = []\n",
        "for i in range(4):\n",
        "  d.append(sbase.loc[sbase['bins'] == i][['sum', 'mean', 'std', 'min', 'max']])"
      ],
      "execution_count": null,
      "outputs": []
    },
    {
      "cell_type": "code",
      "metadata": {
        "id": "IBIwYHepsxzZ"
      },
      "source": [
        "for i in range(4):\n",
        "  #for j in d[i].columns:\n",
        "  d[i] = d[i].mean()"
      ],
      "execution_count": null,
      "outputs": []
    },
    {
      "cell_type": "code",
      "metadata": {
        "id": "J17wjWW2tG7I"
      },
      "source": [
        "for i in range(4):\n",
        "  for j in d[i].index:\n",
        "    dbase[j + '_biger_mean_' + str(i)] = (dbase[j] > d[i][j]).astype(int)"
      ],
      "execution_count": null,
      "outputs": []
    },
    {
      "cell_type": "code",
      "metadata": {
        "id": "i_52W7-WuGc3"
      },
      "source": [
        "dbase.to_csv(dis + 'all_data9.csv')"
      ],
      "execution_count": null,
      "outputs": []
    },
    {
      "cell_type": "code",
      "metadata": {
        "id": "0gGy3N98W62K"
      },
      "source": [
        "dbase = pd.read_csv(dis + 'all_data9.csv', index_col = 'client_id')"
      ],
      "execution_count": null,
      "outputs": []
    },
    {
      "cell_type": "code",
      "metadata": {
        "id": "eYU-rbgwYZ8J"
      },
      "source": [
        "data = pd.read_csv(dis + 'AllDats.csv')\n",
        "data = data.drop(['Unnamed: 0'], axis = 1)"
      ],
      "execution_count": null,
      "outputs": []
    },
    {
      "cell_type": "code",
      "metadata": {
        "id": "aA3x5QrJYwTc"
      },
      "source": [
        "data = data.groupby(['client_id', 'trans_date'])['amount_rur'].sum().reset_index()"
      ],
      "execution_count": null,
      "outputs": []
    },
    {
      "cell_type": "code",
      "metadata": {
        "id": "xj104omiZbsL"
      },
      "source": [
        "data = data.pivot(index = 'client_id', columns = 'trans_date', values = 'amount_rur')"
      ],
      "execution_count": null,
      "outputs": []
    },
    {
      "cell_type": "code",
      "metadata": {
        "id": "zPWt3rVJaQHz"
      },
      "source": [
        "data = data.fillna(0.0)"
      ],
      "execution_count": null,
      "outputs": []
    },
    {
      "cell_type": "code",
      "metadata": {
        "id": "grzkHvX0afDr"
      },
      "source": [
        "data = data.merge(dbase['is_train'], how = 'outer', on = 'client_id')"
      ],
      "execution_count": null,
      "outputs": []
    },
    {
      "cell_type": "code",
      "metadata": {
        "id": "t_s8f2otbDh6"
      },
      "source": [
        "data = data.loc[data['is_train'] == 1].drop(['is_train'], axis = 1)"
      ],
      "execution_count": null,
      "outputs": []
    },
    {
      "cell_type": "code",
      "metadata": {
        "id": "YVg6bBqlbQd-"
      },
      "source": [
        "data = data.merge(pd.read_csv(dis + 'train_target.csv', index_col = 'client_id'), how = 'outer', on = 'client_id')"
      ],
      "execution_count": null,
      "outputs": []
    },
    {
      "cell_type": "code",
      "metadata": {
        "id": "VTPIux87byyE"
      },
      "source": [
        "d = []\n",
        "for i in range(4):\n",
        "  d.append(data.loc[data['bins'] == i].drop(['bins'], axis = 1))"
      ],
      "execution_count": null,
      "outputs": []
    },
    {
      "cell_type": "code",
      "metadata": {
        "id": "uKD-dKm4cJEA"
      },
      "source": [
        "for i in range(4):\n",
        "  d[i] = d[i].mean()"
      ],
      "execution_count": null,
      "outputs": []
    },
    {
      "cell_type": "code",
      "metadata": {
        "id": "wrP5HrW2c3J4"
      },
      "source": [
        "for i in range(4):\n",
        "  for j in range(730):\n",
        "    dbase['day_bigger_' + str(i) + '_' + str(j)] = (data[j] > d[i][j])"
      ],
      "execution_count": null,
      "outputs": []
    },
    {
      "cell_type": "code",
      "metadata": {
        "id": "x7eC4cT7dmYO"
      },
      "source": [
        "for i in range(4):\n",
        "  for j in range(730):\n",
        "    dbase['day_bigger_' + str(i) + '_' + str(j)] = dbase['day_bigger_' + str(i) + '_' + str(j)].astype(int)"
      ],
      "execution_count": null,
      "outputs": []
    },
    {
      "cell_type": "code",
      "metadata": {
        "id": "kmaQd1raenlc"
      },
      "source": [
        "dbase.to_csv(dis + 'all_data9.csv')"
      ],
      "execution_count": null,
      "outputs": []
    },
    {
      "cell_type": "code",
      "metadata": {
        "id": "SrdRLVXg5O79"
      },
      "source": [
        "dbase = pd.read_csv(dis + 'all_data7.csv', index_col = 'client_id')"
      ],
      "execution_count": null,
      "outputs": []
    },
    {
      "cell_type": "code",
      "metadata": {
        "id": "ZIPK9eki5iKY"
      },
      "source": [
        "dbase['sum_bigger_mean'] = (dbase['sum'] > dbase['sum'].mean()).astype(int)\n",
        "dbase['mean_bigger_mean'] = (dbase['mean'] > dbase['mean'].mean()).astype(int)\n",
        "dbase['std_bigger_mean'] = (dbase['std'] > dbase['std'].mean()).astype(int)\n",
        "dbase['min_bigger_mean'] = (dbase['min'] > dbase['min'].mean()).astype(int)\n",
        "dbase['max_bigger_mean'] = (dbase['max'] > dbase['max'].mean()).astype(int)"
      ],
      "execution_count": null,
      "outputs": []
    },
    {
      "cell_type": "code",
      "metadata": {
        "id": "L0H6vPkJ53BU"
      },
      "source": [
        "for i in range(204):\n",
        "  dbase['small_group_bigger_mean_' + str(i)] = (dbase['small_group_total_rur_' + str(i)] > dbase['small_group_total_rur_' + str(i)].mean()).astype(int)"
      ],
      "execution_count": null,
      "outputs": []
    },
    {
      "cell_type": "code",
      "metadata": {
        "id": "N5GL502Q9D-4"
      },
      "source": [
        "dbase.to_csv(dis + 'all_data9.csv')"
      ],
      "execution_count": null,
      "outputs": []
    },
    {
      "cell_type": "code",
      "metadata": {
        "id": "qTQIzlH8773k"
      },
      "source": [
        "dbase = pd.read_csv(dis + 'all_data9.csv', index_col = 'client_id')"
      ],
      "execution_count": null,
      "outputs": []
    },
    {
      "cell_type": "code",
      "metadata": {
        "id": "w04bvVkX8OPv"
      },
      "source": [
        "for i in range(204):\n",
        "  dbase = dbase.drop(['small_group_bigger_mean_' + str(i)], axis = 1)"
      ],
      "execution_count": null,
      "outputs": []
    },
    {
      "cell_type": "code",
      "metadata": {
        "id": "l5sDrKRD83WZ"
      },
      "source": [
        "dbase.to_csv(dis + 'all_data9.csv')"
      ],
      "execution_count": null,
      "outputs": []
    },
    {
      "cell_type": "code",
      "metadata": {
        "id": "9WDbU9ZR1XzN",
        "colab": {
          "base_uri": "https://localhost:8080/",
          "height": 1000
        },
        "outputId": "45509295-7aff-4045-b1d6-c6e9985e12f8"
      },
      "source": [
        "!pip install feature_selector"
      ],
      "execution_count": null,
      "outputs": [
        {
          "output_type": "stream",
          "text": [
            "Collecting feature_selector\n",
            "  Downloading https://files.pythonhosted.org/packages/7c/d2/5448f8af6d3507f3c455429744c6436fdf3b91d10c75f4857d8e8bb4da1c/feature_selector-1.0.0-py3-none-any.whl\n",
            "Collecting matplotlib==2.1.2\n",
            "\u001b[?25l  Downloading https://files.pythonhosted.org/packages/35/96/6e71a040339d4efc54cf707061e70fd624c9120b48b992f919ba34df9cb1/matplotlib-2.1.2-cp36-cp36m-manylinux1_x86_64.whl (15.0MB)\n",
            "\u001b[K     |████████████████████████████████| 15.0MB 158kB/s \n",
            "\u001b[?25hCollecting seaborn==0.8.1\n",
            "\u001b[?25l  Downloading https://files.pythonhosted.org/packages/10/01/dd1c7838cde3b69b247aaeb61016e238cafd8188a276e366d36aa6bcdab4/seaborn-0.8.1.tar.gz (178kB)\n",
            "\u001b[K     |████████████████████████████████| 184kB 44.7MB/s \n",
            "\u001b[?25hCollecting pandas==0.23.1\n",
            "\u001b[?25l  Downloading https://files.pythonhosted.org/packages/57/eb/6ab533ea8e35e7dd159af6922ac1123d4565d89f3926ad9a6aa46530978f/pandas-0.23.1-cp36-cp36m-manylinux1_x86_64.whl (11.8MB)\n",
            "\u001b[K     |████████████████████████████████| 11.8MB 28.3MB/s \n",
            "\u001b[?25hCollecting scikit-learn==0.19.1\n",
            "\u001b[?25l  Downloading https://files.pythonhosted.org/packages/3d/2d/9fbc7baa5f44bc9e88ffb7ed32721b879bfa416573e85031e16f52569bc9/scikit_learn-0.19.1-cp36-cp36m-manylinux1_x86_64.whl (12.4MB)\n",
            "\u001b[K     |████████████████████████████████| 12.4MB 189kB/s \n",
            "\u001b[?25hCollecting numpy==1.14.5\n",
            "\u001b[?25l  Downloading https://files.pythonhosted.org/packages/68/1e/116ad560de97694e2d0c1843a7a0075cc9f49e922454d32f49a80eb6f1f2/numpy-1.14.5-cp36-cp36m-manylinux1_x86_64.whl (12.2MB)\n",
            "\u001b[K     |████████████████████████████████| 12.2MB 195kB/s \n",
            "\u001b[?25hCollecting lightgbm==2.1.1\n",
            "\u001b[?25l  Downloading https://files.pythonhosted.org/packages/bf/01/45e209af10fd16537df0c5d8a5474c286554c3eaf9ddb0ce04113f1e8506/lightgbm-2.1.1-py2.py3-none-manylinux1_x86_64.whl (711kB)\n",
            "\u001b[K     |████████████████████████████████| 716kB 45.3MB/s \n",
            "\u001b[?25hRequirement already satisfied: python-dateutil>=2.1 in /usr/local/lib/python3.6/dist-packages (from matplotlib==2.1.2->feature_selector) (2.6.1)\n",
            "Requirement already satisfied: pyparsing!=2.0.4,!=2.1.2,!=2.1.6,>=2.0.1 in /usr/local/lib/python3.6/dist-packages (from matplotlib==2.1.2->feature_selector) (2.4.5)\n",
            "Requirement already satisfied: pytz in /usr/local/lib/python3.6/dist-packages (from matplotlib==2.1.2->feature_selector) (2018.9)\n",
            "Requirement already satisfied: six>=1.10 in /usr/local/lib/python3.6/dist-packages (from matplotlib==2.1.2->feature_selector) (1.12.0)\n",
            "Requirement already satisfied: cycler>=0.10 in /usr/local/lib/python3.6/dist-packages (from matplotlib==2.1.2->feature_selector) (0.10.0)\n",
            "Requirement already satisfied: scipy in /usr/local/lib/python3.6/dist-packages (from lightgbm==2.1.1->feature_selector) (1.3.2)\n",
            "Building wheels for collected packages: seaborn\n",
            "  Building wheel for seaborn (setup.py) ... \u001b[?25l\u001b[?25hdone\n",
            "  Created wheel for seaborn: filename=seaborn-0.8.1-cp36-none-any.whl size=184834 sha256=75559e698ade6f3519bf208c0bde59b92c0dd7bcb687753236e33292cc84a44e\n",
            "  Stored in directory: /root/.cache/pip/wheels/26/0a/44/53ddd89769e62f7c6691976375b86c6492e7dd20a2d3970e32\n",
            "Successfully built seaborn\n",
            "\u001b[31mERROR: yellowbrick 0.9.1 has requirement scikit-learn>=0.20, but you'll have scikit-learn 0.19.1 which is incompatible.\u001b[0m\n",
            "\u001b[31mERROR: tensorflow 1.15.0 has requirement numpy<2.0,>=1.16.0, but you'll have numpy 1.14.5 which is incompatible.\u001b[0m\n",
            "\u001b[31mERROR: spacy 2.1.9 has requirement numpy>=1.15.0, but you'll have numpy 1.14.5 which is incompatible.\u001b[0m\n",
            "\u001b[31mERROR: plotnine 0.5.1 has requirement matplotlib>=3.0.0, but you'll have matplotlib 2.1.2 which is incompatible.\u001b[0m\n",
            "\u001b[31mERROR: plotnine 0.5.1 has requirement pandas>=0.23.4, but you'll have pandas 0.23.1 which is incompatible.\u001b[0m\n",
            "\u001b[31mERROR: mizani 0.5.4 has requirement pandas>=0.23.4, but you'll have pandas 0.23.1 which is incompatible.\u001b[0m\n",
            "\u001b[31mERROR: imgaug 0.2.9 has requirement numpy>=1.15.0, but you'll have numpy 1.14.5 which is incompatible.\u001b[0m\n",
            "\u001b[31mERROR: imbalanced-learn 0.4.3 has requirement scikit-learn>=0.20, but you'll have scikit-learn 0.19.1 which is incompatible.\u001b[0m\n",
            "\u001b[31mERROR: google-colab 1.0.0 has requirement pandas~=0.25.0; python_version >= \"3.0\", but you'll have pandas 0.23.1 which is incompatible.\u001b[0m\n",
            "\u001b[31mERROR: fbprophet 0.5 has requirement pandas>=0.23.4, but you'll have pandas 0.23.1 which is incompatible.\u001b[0m\n",
            "\u001b[31mERROR: fastai 1.0.59 has requirement numpy>=1.15, but you'll have numpy 1.14.5 which is incompatible.\u001b[0m\n",
            "\u001b[31mERROR: datascience 0.10.6 has requirement folium==0.2.1, but you'll have folium 0.8.3 which is incompatible.\u001b[0m\n",
            "\u001b[31mERROR: cvxpy 1.0.25 has requirement numpy>=1.15, but you'll have numpy 1.14.5 which is incompatible.\u001b[0m\n",
            "\u001b[31mERROR: blis 0.2.4 has requirement numpy>=1.15.0, but you'll have numpy 1.14.5 which is incompatible.\u001b[0m\n",
            "\u001b[31mERROR: albumentations 0.1.12 has requirement imgaug<0.2.7,>=0.2.5, but you'll have imgaug 0.2.9 which is incompatible.\u001b[0m\n",
            "Installing collected packages: numpy, matplotlib, seaborn, pandas, scikit-learn, lightgbm, feature-selector\n",
            "  Found existing installation: numpy 1.17.4\n",
            "    Uninstalling numpy-1.17.4:\n",
            "      Successfully uninstalled numpy-1.17.4\n",
            "  Found existing installation: matplotlib 3.1.1\n",
            "    Uninstalling matplotlib-3.1.1:\n",
            "      Successfully uninstalled matplotlib-3.1.1\n",
            "  Found existing installation: seaborn 0.9.0\n",
            "    Uninstalling seaborn-0.9.0:\n",
            "      Successfully uninstalled seaborn-0.9.0\n",
            "  Found existing installation: pandas 0.25.3\n",
            "    Uninstalling pandas-0.25.3:\n",
            "      Successfully uninstalled pandas-0.25.3\n",
            "  Found existing installation: scikit-learn 0.21.3\n",
            "    Uninstalling scikit-learn-0.21.3:\n",
            "      Successfully uninstalled scikit-learn-0.21.3\n",
            "  Found existing installation: lightgbm 2.2.3\n",
            "    Uninstalling lightgbm-2.2.3:\n",
            "      Successfully uninstalled lightgbm-2.2.3\n",
            "Successfully installed feature-selector-1.0.0 lightgbm-2.1.1 matplotlib-2.1.2 numpy-1.14.5 pandas-0.23.1 scikit-learn-0.19.1 seaborn-0.8.1\n"
          ],
          "name": "stdout"
        },
        {
          "output_type": "display_data",
          "data": {
            "application/vnd.colab-display-data+json": {
              "pip_warning": {
                "packages": [
                  "matplotlib",
                  "mpl_toolkits",
                  "numpy",
                  "pandas"
                ]
              }
            }
          },
          "metadata": {
            "tags": []
          }
        }
      ]
    },
    {
      "cell_type": "code",
      "metadata": {
        "id": "UTSfAiz1LEx8"
      },
      "source": [
        "dbase = pd.read_csv(dis + 'all_data9.csv', index_col = 'client_id')"
      ],
      "execution_count": null,
      "outputs": []
    },
    {
      "cell_type": "code",
      "metadata": {
        "id": "vgaUT_WHLh1L"
      },
      "source": [
        "from feature_selector import FeatureSelector"
      ],
      "execution_count": null,
      "outputs": []
    },
    {
      "cell_type": "code",
      "metadata": {
        "id": "j8etSJgbLtiK"
      },
      "source": [
        "a = pd.DataFrame(dbase.loc[dbase['is_train'] == 1].index).set_index(['client_id'])\n",
        "a = a.merge(pd.read_csv(dis + 'train_target.csv', index_col = 'client_id'), how = 'outer', on = 'client_id')"
      ],
      "execution_count": null,
      "outputs": []
    },
    {
      "cell_type": "code",
      "metadata": {
        "id": "qz9MqSpCLmmi"
      },
      "source": [
        "# Признаки - в train, метки - в train_labels\n",
        "fs = FeatureSelector(data = dbase.loc[dbase['is_train'] == 1].drop(['is_train'], axis = 1), labels = a)"
      ],
      "execution_count": null,
      "outputs": []
    },
    {
      "cell_type": "code",
      "metadata": {
        "id": "UIvDW_ycM72g",
        "colab": {
          "base_uri": "https://localhost:8080/",
          "height": 52
        },
        "outputId": "7da7605d-7fbe-4270-e8a4-77b675de0cf3"
      },
      "source": [
        "fs.identify_collinear(correlation_threshold = 0.98)"
      ],
      "execution_count": null,
      "outputs": [
        {
          "output_type": "stream",
          "text": [
            "413 features with a correlation magnitude greater than 0.98.\n",
            "\n"
          ],
          "name": "stdout"
        }
      ]
    },
    {
      "cell_type": "code",
      "metadata": {
        "id": "ZDidtk8iRTtq"
      },
      "source": [
        "collinear_features = fs.ops['collinear']"
      ],
      "execution_count": null,
      "outputs": []
    },
    {
      "cell_type": "code",
      "metadata": {
        "id": "ofbbQPf7Rlbp"
      },
      "source": [
        "dbase = dbase.drop(collinear_features, axis = 1)"
      ],
      "execution_count": null,
      "outputs": []
    },
    {
      "cell_type": "code",
      "metadata": {
        "id": "Hp_xIY9XR6zf"
      },
      "source": [
        "dbase.to_csv(dis + 'all_data8.csv')"
      ],
      "execution_count": null,
      "outputs": []
    },
    {
      "cell_type": "code",
      "metadata": {
        "id": "eVPVAV16BE5x"
      },
      "source": [
        "dbase = pd.read_csv(dis + 'all_data7.csv', index_col = 'client_id')"
      ],
      "execution_count": null,
      "outputs": []
    },
    {
      "cell_type": "code",
      "metadata": {
        "id": "GYGsh7ioBm4Q",
        "colab": {
          "base_uri": "https://localhost:8080/",
          "height": 777
        },
        "outputId": "59458c70-ea15-41f7-9621-4ee0ceab09e1"
      },
      "source": [
        "dbase.columns[1600:1700]"
      ],
      "execution_count": null,
      "outputs": [
        {
          "output_type": "execute_result",
          "data": {
            "text/plain": [
              "Index(['small_group_rate_162', 'small_group_rate_163', 'small_group_rate_164',\n",
              "       'small_group_rate_165', 'small_group_rate_166', 'small_group_rate_167',\n",
              "       'small_group_rate_168', 'small_group_rate_169', 'small_group_rate_170',\n",
              "       'small_group_rate_171', 'small_group_rate_172', 'small_group_rate_173',\n",
              "       'small_group_rate_174', 'small_group_rate_175', 'small_group_rate_176',\n",
              "       'small_group_rate_177', 'small_group_rate_178', 'small_group_rate_179',\n",
              "       'small_group_rate_180', 'small_group_rate_181', 'small_group_rate_182',\n",
              "       'small_group_rate_183', 'small_group_rate_184', 'small_group_rate_185',\n",
              "       'small_group_rate_186', 'small_group_rate_187', 'small_group_rate_188',\n",
              "       'small_group_rate_189', 'small_group_rate_190', 'small_group_rate_191',\n",
              "       'small_group_rate_192', 'small_group_rate_193', 'small_group_rate_194',\n",
              "       'small_group_rate_195', 'small_group_rate_196', 'small_group_rate_197',\n",
              "       'small_group_rate_198', 'small_group_rate_199', 'small_group_rate_200',\n",
              "       'small_group_rate_201', 'small_group_rate_202', 'small_group_rate_203',\n",
              "       'favor_small_gorup_0_0', 'favor_small_gorup_0_1',\n",
              "       'favor_small_gorup_0_2', 'favor_small_gorup_0_3',\n",
              "       'favor_small_gorup_0_4', 'favor_small_gorup_0_5',\n",
              "       'favor_small_gorup_0_6', 'favor_small_gorup_0_7',\n",
              "       'favor_small_gorup_0_8', 'favor_small_gorup_0_9',\n",
              "       'favor_small_gorup_0_10', 'favor_small_gorup_0_11',\n",
              "       'favor_small_gorup_0_12', 'favor_small_gorup_0_13',\n",
              "       'favor_small_gorup_0_14', 'favor_small_gorup_0_15',\n",
              "       'favor_small_gorup_0_16', 'favor_small_gorup_0_17',\n",
              "       'favor_small_gorup_0_18', 'favor_small_gorup_0_19',\n",
              "       'favor_small_gorup_0_20', 'favor_small_gorup_0_21',\n",
              "       'favor_small_gorup_0_22', 'favor_small_gorup_0_23',\n",
              "       'favor_small_gorup_0_24', 'favor_small_gorup_0_25',\n",
              "       'favor_small_gorup_0_26', 'favor_small_gorup_0_27',\n",
              "       'favor_small_gorup_0_28', 'favor_small_gorup_0_29',\n",
              "       'favor_small_gorup_0_30', 'favor_small_gorup_0_31',\n",
              "       'favor_small_gorup_0_32', 'favor_small_gorup_0_33',\n",
              "       'favor_small_gorup_0_34', 'favor_small_gorup_0_35',\n",
              "       'favor_small_gorup_0_36', 'favor_small_gorup_0_37',\n",
              "       'favor_small_gorup_0_38', 'favor_small_gorup_0_39',\n",
              "       'favor_small_gorup_0_40', 'favor_small_gorup_0_41',\n",
              "       'favor_small_gorup_0_42', 'favor_small_gorup_0_43',\n",
              "       'favor_small_gorup_0_44', 'favor_small_gorup_0_45',\n",
              "       'favor_small_gorup_0_46', 'favor_small_gorup_0_47',\n",
              "       'favor_small_gorup_0_48', 'favor_small_gorup_0_49',\n",
              "       'favor_small_gorup_0_50', 'favor_small_gorup_0_51',\n",
              "       'favor_small_gorup_0_52', 'favor_small_gorup_0_53',\n",
              "       'favor_small_gorup_0_54', 'favor_small_gorup_0_55',\n",
              "       'favor_small_gorup_0_56', 'favor_small_gorup_0_57'],\n",
              "      dtype='object')"
            ]
          },
          "metadata": {
            "tags": []
          },
          "execution_count": 21
        }
      ]
    }
  ]
}